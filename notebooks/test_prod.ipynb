{
 "cells": [
  {
   "cell_type": "markdown",
   "id": "59a0e0af-60f0-4e35-955e-3a38d9d60662",
   "metadata": {},
   "source": [
    "# 1"
   ]
  },
  {
   "cell_type": "code",
   "execution_count": null,
   "id": "74572bab-b955-4614-a24f-2f453bb9df47",
   "metadata": {},
   "outputs": [],
   "source": [
    "class AmmOrder(IOrder):\n",
    "    ...\n",
    "\n",
    "@dataclass\n",
    "class AmmBook(IBook):\n",
    "    mid: Price\n",
    "    bins: dict[Price, Size]\n",
    "    \n",
    "    def match(self: Self, order: AmmOrder):\n",
    "        ..."
   ]
  },
  {
   "cell_type": "code",
   "execution_count": null,
   "id": "2702ee00-8f38-486e-bf15-47e1cfd0bc24",
   "metadata": {
    "jupyter": {
     "source_hidden": true
    }
   },
   "outputs": [],
   "source": [
    "class CustomOrder(IOrder):\n",
    "    ...\n",
    "\n",
    "@dataclass\n",
    "class CustomBook:\n",
    "    mid: Price\n",
    "    bins: dict[Price, Size]\n",
    "    \n",
    "def match(book: CustomBook, order: CustomOrder):\n",
    "    ..."
   ]
  },
  {
   "cell_type": "markdown",
   "id": "0cbf3a3e-11ab-44e2-9eea-13a4eac9035e",
   "metadata": {},
   "source": [
    "## test"
   ]
  },
  {
   "cell_type": "code",
   "execution_count": 14,
   "id": "ff7ca809-610c-43bb-be6f-b51d092cbf9a",
   "metadata": {},
   "outputs": [
    {
     "data": {
      "text/plain": [
       "11.0"
      ]
     },
     "execution_count": 14,
     "metadata": {},
     "output_type": "execute_result"
    }
   ],
   "source": [
    "from duckbot.math import *\n",
    "\n",
    "pos1 = Position(size = 5, notional = 55)\n",
    "pos1.price()"
   ]
  },
  {
   "cell_type": "code",
   "execution_count": 15,
   "id": "148055c9-a0bc-4068-a07e-6099f60e9cac",
   "metadata": {},
   "outputs": [
    {
     "data": {
      "text/plain": [
       "0"
      ]
     },
     "execution_count": 15,
     "metadata": {},
     "output_type": "execute_result"
    }
   ],
   "source": [
    "pos2 = Position(size = 0, notional = 55)\n",
    "pos2.price()"
   ]
  },
  {
   "cell_type": "code",
   "execution_count": 18,
   "id": "b549772e-14be-40ea-8383-0e905f34c285",
   "metadata": {},
   "outputs": [
    {
     "name": "stdout",
     "output_type": "stream",
     "text": [
      "   90% |   100\n",
      "   80% |    15\n",
      "   70% |    10\n",
      "   60% |    30\n",
      "   50% |    20\n",
      "---------------\n",
      " price |  size\n",
      "---------------\n",
      "   40% |     0\n",
      "   30% |     5\n",
      "   20% |     1\n",
      "   10% |    10\n",
      "\n",
      "MATCH (notional, size) = (-3150, -55)\n",
      "\n",
      "   90% |   100\n",
      "   80% |    15\n",
      "   70% |     5\n",
      "---------------\n",
      " price |  size\n",
      "---------------\n",
      "   60% |     5\n",
      "   50% |    30\n",
      "   40% |    20\n",
      "   30% |     5\n",
      "   20% |     1\n",
      "   10% |    10\n",
      "\n",
      "MATCH (notional, size) = (-1550, -20)\n",
      "\n",
      "   90% |   100\n",
      "   80% |     0\n",
      "---------------\n",
      " price |  size\n",
      "---------------\n",
      "   70% |    15\n",
      "   60% |    10\n",
      "   50% |    30\n",
      "   40% |    20\n",
      "   30% |     5\n",
      "   20% |     1\n",
      "   10% |    10\n",
      "\n",
      "MATCH (notional, size) = (4120, 81)\n",
      "\n",
      "   90% |   100\n",
      "   80% |    15\n",
      "   70% |    10\n",
      "   60% |    30\n",
      "   50% |    20\n",
      "   40% |     5\n",
      "   30% |     1\n",
      "   20% |     0\n",
      "---------------\n",
      " price |  size\n",
      "---------------\n",
      "   10% |    10\n",
      "\n",
      "MATCH (notional, size) = (-70, -2)\n",
      "\n",
      "   90% |   100\n",
      "   80% |    15\n",
      "   70% |    10\n",
      "   60% |    30\n",
      "   50% |    20\n",
      "   40% |     4\n",
      "---------------\n",
      " price |  size\n",
      "---------------\n",
      "   30% |     1\n",
      "   20% |     1\n",
      "   10% |    10\n",
      "\n"
     ]
    }
   ],
   "source": [
    "book1 = OrderBook(\n",
    "    book = [10, 1, 5, -0, -20, -30, -10, -15, -100],  # bid sizes: 0, 30 ask sizes: 10, 15\n",
    "    price_tick = 10,  # orders are 20% apart (using integer for exact math)\n",
    "    index = 4,\n",
    ")\n",
    "print(book1.pretty())\n",
    "print()\n",
    "print('MATCH (notional, size) =', book1.match(70, 55))\n",
    "print()\n",
    "print(book1.pretty())\n",
    "print()\n",
    "print('MATCH (notional, size) =', book1.match(80, 20))\n",
    "print()\n",
    "print(book1.pretty())\n",
    "print()\n",
    "print('MATCH (notional, size) =', book1.match(20, -1000))\n",
    "print()\n",
    "print(book1.pretty())\n",
    "print()\n",
    "print('MATCH (notional, size) =', book1.match(40, 2))\n",
    "print()\n",
    "print(book1.pretty())\n",
    "print()"
   ]
  },
  {
   "cell_type": "code",
   "execution_count": null,
   "id": "90b5eeab-f9ef-4565-b268-97b30c6b982e",
   "metadata": {},
   "outputs": [],
   "source": []
  },
  {
   "cell_type": "code",
   "execution_count": null,
   "id": "b92bd75e-45cf-4730-ac4a-d325f5f180e0",
   "metadata": {},
   "outputs": [],
   "source": []
  },
  {
   "cell_type": "code",
   "execution_count": null,
   "id": "2c2b3225-b4cf-4793-b4be-1dc58fc5cb60",
   "metadata": {},
   "outputs": [],
   "source": []
  },
  {
   "cell_type": "code",
   "execution_count": null,
   "id": "47f3f519-ab06-4867-9422-546520579e29",
   "metadata": {},
   "outputs": [],
   "source": []
  }
 ],
 "metadata": {
  "kernelspec": {
   "display_name": "Python 3 (ipykernel)",
   "language": "python",
   "name": "python3"
  },
  "language_info": {
   "codemirror_mode": {
    "name": "ipython",
    "version": 3
   },
   "file_extension": ".py",
   "mimetype": "text/x-python",
   "name": "python",
   "nbconvert_exporter": "python",
   "pygments_lexer": "ipython3",
   "version": "3.12.2"
  }
 },
 "nbformat": 4,
 "nbformat_minor": 5
}

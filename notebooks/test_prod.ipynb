{
 "cells": [
  {
   "cell_type": "markdown",
   "id": "59a0e0af-60f0-4e35-955e-3a38d9d60662",
   "metadata": {},
   "source": [
    "# 1"
   ]
  },
  {
   "cell_type": "markdown",
   "id": "0cbf3a3e-11ab-44e2-9eea-13a4eac9035e",
   "metadata": {},
   "source": [
    "## test"
   ]
  },
  {
   "cell_type": "code",
   "execution_count": 1,
   "id": "ff7ca809-610c-43bb-be6f-b51d092cbf9a",
   "metadata": {},
   "outputs": [
    {
     "data": {
      "text/plain": [
       "11.0"
      ]
     },
     "execution_count": 1,
     "metadata": {},
     "output_type": "execute_result"
    }
   ],
   "source": [
    "from duckbot.math import *\n",
    "\n",
    "pos1 = Position(size = 5, notional = 55)\n",
    "pos1.price()"
   ]
  },
  {
   "cell_type": "code",
   "execution_count": 2,
   "id": "148055c9-a0bc-4068-a07e-6099f60e9cac",
   "metadata": {},
   "outputs": [
    {
     "data": {
      "text/plain": [
       "0"
      ]
     },
     "execution_count": 2,
     "metadata": {},
     "output_type": "execute_result"
    }
   ],
   "source": [
    "pos2 = Position(size = 0, notional = 55)\n",
    "pos2.price()"
   ]
  },
  {
   "cell_type": "code",
   "execution_count": 3,
   "id": "b549772e-14be-40ea-8383-0e905f34c285",
   "metadata": {},
   "outputs": [
    {
     "name": "stdout",
     "output_type": "stream",
     "text": [
      "   90% |   100\n",
      "   80% |    15\n",
      "   70% |    10\n",
      "   60% |    30\n",
      "   50% |    20\n",
      "---------------\n",
      " price |  size\n",
      "---------------\n",
      "   40% |     0\n",
      "   30% |     5\n",
      "   20% |     1\n",
      "   10% |    10\n",
      "\n",
      "MATCH (notional, size) = Position(size=-55, notional=-3150, max_price=100)\n",
      "\n",
      "   90% |   100\n",
      "   80% |    15\n",
      "   70% |     5\n",
      "---------------\n",
      " price |  size\n",
      "---------------\n",
      "   60% |     5\n",
      "   50% |    30\n",
      "   40% |    20\n",
      "   30% |     5\n",
      "   20% |     1\n",
      "   10% |    10\n",
      "\n",
      "MATCH (notional, size) = Position(size=-20, notional=-1550, max_price=100)\n",
      "\n",
      "   90% |   100\n",
      "   80% |     0\n",
      "---------------\n",
      " price |  size\n",
      "---------------\n",
      "   70% |    15\n",
      "   60% |    10\n",
      "   50% |    30\n",
      "   40% |    20\n",
      "   30% |     5\n",
      "   20% |     1\n",
      "   10% |    10\n",
      "\n",
      "MATCH (notional, size) = Position(size=81, notional=4120, max_price=100)\n",
      "\n",
      "   90% |   100\n",
      "   80% |    15\n",
      "   70% |    10\n",
      "   60% |    30\n",
      "   50% |    20\n",
      "   40% |     5\n",
      "   30% |     1\n",
      "   20% |     0\n",
      "---------------\n",
      " price |  size\n",
      "---------------\n",
      "   10% |    10\n",
      "\n",
      "MATCH (notional, size) = Position(size=-2, notional=-70, max_price=100)\n",
      "\n",
      "   90% |   100\n",
      "   80% |    15\n",
      "   70% |    10\n",
      "   60% |    30\n",
      "   50% |    20\n",
      "   40% |     4\n",
      "---------------\n",
      " price |  size\n",
      "---------------\n",
      "   30% |     1\n",
      "   20% |     1\n",
      "   10% |    10\n",
      "\n"
     ]
    }
   ],
   "source": [
    "book1 = OrderBook(\n",
    "    book = [10, 1, 5, 0, -20, -30, -10, -15, -100],  # bid sizes: 0, 30 ask sizes: 10, 15\n",
    "    price_tick = 10,  # orders are 20% apart (using integer for exact math)\n",
    "    ask_index = 4,\n",
    ")\n",
    "print(book1.pretty())\n",
    "print()\n",
    "print('MATCH (notional, size) =', book1.match(70, 55))\n",
    "print()\n",
    "print(book1.pretty())\n",
    "print()\n",
    "print('MATCH (notional, size) =', book1.match(80, 20))\n",
    "print()\n",
    "print(book1.pretty())\n",
    "print()\n",
    "print('MATCH (notional, size) =', book1.match(20, -1000))\n",
    "print()\n",
    "print(book1.pretty())\n",
    "print()\n",
    "print('MATCH (notional, size) =', book1.match(40, 2))\n",
    "print()\n",
    "print(book1.pretty())\n",
    "print()"
   ]
  },
  {
   "cell_type": "code",
   "execution_count": null,
   "id": "90b5eeab-f9ef-4565-b268-97b30c6b982e",
   "metadata": {},
   "outputs": [],
   "source": []
  },
  {
   "cell_type": "code",
   "execution_count": 4,
   "id": "b92bd75e-45cf-4730-ac4a-d325f5f180e0",
   "metadata": {},
   "outputs": [],
   "source": [
    "acc1 = Account(Position())"
   ]
  },
  {
   "cell_type": "code",
   "execution_count": 5,
   "id": "2c2b3225-b4cf-4793-b4be-1dc58fc5cb60",
   "metadata": {},
   "outputs": [
    {
     "name": "stdout",
     "output_type": "stream",
     "text": [
      "   90% |   100\n",
      "   80% |    15\n",
      "   70% |    10\n",
      "   60% |    30\n",
      "   50% |    20\n",
      "---------------\n",
      " price |  size\n",
      "---------------\n",
      "   40% |     0\n",
      "   30% |     5\n",
      "   20% |     1\n",
      "   10% |    10\n",
      "Account(position=Position(size=0, notional=0, max_price=100), balance=0)\n",
      "\n",
      "MATCH (notional, size) = Position(size=-55, notional=-3150, max_price=100)\n",
      "Account(position=Position(size=55, notional=3150, max_price=100), balance=0)\n",
      "\n",
      "MATCH (notional, size) = Position(size=-20, notional=-1550, max_price=100)\n",
      "Account(position=Position(size=75, notional=4700, max_price=100), balance=0)\n",
      "\n",
      "MATCH (notional, size) = Position(size=81, notional=4120, max_price=100)\n",
      "Account(position=Position(size=-6, notional=580, max_price=100), balance=0)\n",
      "\n",
      "MATCH (notional, size) = Position(size=-2, notional=-70, max_price=100)\n",
      "Account(position=Position(size=-4, notional=650, max_price=100), balance=0)\n"
     ]
    }
   ],
   "source": [
    "book1 = OrderBook(\n",
    "    book = [10, 1, 5, -0, -20, -30, -10, -15, -100],  # bid sizes: 0, 30 ask sizes: 10, 15\n",
    "    price_tick = 10,  # orders are 20% apart (using integer for exact math)\n",
    "    ask_index = 4,\n",
    ")\n",
    "print(book1.pretty())\n",
    "print(acc1)\n",
    "print()\n",
    "match = book1.match(70, 55)\n",
    "acc1.swap(match)\n",
    "print('MATCH (notional, size) =', match)\n",
    "print(acc1)\n",
    "print()\n",
    "match = book1.match(80, 20)\n",
    "acc1.swap(match)\n",
    "print('MATCH (notional, size) =', match)\n",
    "print(acc1)\n",
    "print()\n",
    "match = book1.match(20, -1000)\n",
    "acc1.swap(match)\n",
    "print('MATCH (notional, size) =', match)\n",
    "print(acc1)\n",
    "print()\n",
    "match = book1.match(40, 2)\n",
    "acc1.swap(match)\n",
    "print('MATCH (notional, size) =', match)\n",
    "print(acc1)"
   ]
  },
  {
   "cell_type": "code",
   "execution_count": 6,
   "id": "47f3f519-ab06-4867-9422-546520579e29",
   "metadata": {},
   "outputs": [],
   "source": [
    "## to settle the market, close all account position sizes at price 0 or 1.\n",
    "## their pnl is their remaining notional"
   ]
  },
  {
   "cell_type": "code",
   "execution_count": 7,
   "id": "ae6073c1-c24d-4cba-930e-55f42f111621",
   "metadata": {},
   "outputs": [
    {
     "data": {
      "text/plain": [
       "-1050"
      ]
     },
     "execution_count": 7,
     "metadata": {},
     "output_type": "execute_result"
    }
   ],
   "source": [
    "acc1.worst_pnl()"
   ]
  },
  {
   "cell_type": "code",
   "execution_count": 8,
   "id": "523ed885-c5f0-4dd5-8a15-d57eef93999e",
   "metadata": {},
   "outputs": [
    {
     "data": {
      "text/plain": [
       "0"
      ]
     },
     "execution_count": 8,
     "metadata": {},
     "output_type": "execute_result"
    }
   ],
   "source": [
    "acc1.settle()"
   ]
  },
  {
   "cell_type": "markdown",
   "id": "0c595f7b-cb31-480b-bc2b-3179f28e3ab8",
   "metadata": {},
   "source": [
    "# Realistic Positions"
   ]
  },
  {
   "cell_type": "code",
   "execution_count": 9,
   "id": "f8c5670d-4801-4819-8e76-74ca8cf2fcea",
   "metadata": {},
   "outputs": [
    {
     "data": {
      "text/plain": [
       "100"
      ]
     },
     "execution_count": 9,
     "metadata": {},
     "output_type": "execute_result"
    }
   ],
   "source": [
    "acc1 = Account(Position(), 100)\n",
    "acc1.settle()"
   ]
  },
  {
   "cell_type": "code",
   "execution_count": 10,
   "id": "7c17b9f0-e1c2-4c2f-94c0-60a166e5d7be",
   "metadata": {},
   "outputs": [
    {
     "data": {
      "text/plain": [
       "300"
      ]
     },
     "execution_count": 10,
     "metadata": {},
     "output_type": "execute_result"
    }
   ],
   "source": [
    "acc2 = Account(Position(10, 700), 1000)\n",
    "acc2.settle()"
   ]
  },
  {
   "cell_type": "code",
   "execution_count": 11,
   "id": "5e1cbd0f-5f1f-41a5-a9fd-7c0ee09cb124",
   "metadata": {},
   "outputs": [
    {
     "data": {
      "text/plain": [
       "(-700, 1300)"
      ]
     },
     "execution_count": 11,
     "metadata": {},
     "output_type": "execute_result"
    }
   ],
   "source": [
    "acc3 = Account(Position(10, 700), 2000)\n",
    "acc3.worst_pnl(), acc3.settle()"
   ]
  },
  {
   "cell_type": "code",
   "execution_count": 12,
   "id": "f877fd0c-c62d-47e1-bb33-a999f1367136",
   "metadata": {},
   "outputs": [
    {
     "data": {
      "text/plain": [
       "(-2000, 0)"
      ]
     },
     "execution_count": 12,
     "metadata": {},
     "output_type": "execute_result"
    }
   ],
   "source": [
    "acc3.worst_pnl(), acc3.settle()"
   ]
  },
  {
   "cell_type": "code",
   "execution_count": 13,
   "id": "b7ea9dca-0ce6-4692-80cc-031f971bcdef",
   "metadata": {},
   "outputs": [
    {
     "data": {
      "text/plain": [
       "-1300"
      ]
     },
     "execution_count": 13,
     "metadata": {},
     "output_type": "execute_result"
    }
   ],
   "source": [
    "acc3.available_margin()"
   ]
  },
  {
   "cell_type": "markdown",
   "id": "1fca9341-8889-4ef8-ae16-fd95d1c683d7",
   "metadata": {},
   "source": [
    "# Realistic Swaps"
   ]
  },
  {
   "cell_type": "code",
   "execution_count": 14,
   "id": "21e03c47-04b8-4ce7-9905-517d6968941f",
   "metadata": {},
   "outputs": [],
   "source": [
    "mm = Account(Position(), 100000)\n",
    "acc1 = Account(Position(), 1000)"
   ]
  },
  {
   "cell_type": "code",
   "execution_count": 15,
   "id": "540d84d4-4375-415f-a9a5-4a5ea17f8b3d",
   "metadata": {},
   "outputs": [
    {
     "name": "stdout",
     "output_type": "stream",
     "text": [
      "   90% |   100\n",
      "   80% |    15\n",
      "   70% |    10\n",
      "   60% |    30\n",
      "   50% |    20\n",
      "---------------\n",
      " price |  size\n",
      "---------------\n",
      "   40% |     0\n",
      "   30% |     5\n",
      "   20% |     1\n",
      "   10% |    10\n"
     ]
    }
   ],
   "source": [
    "book1 = OrderBook(\n",
    "    book = [10, 1, 5, 0, -20, -30, -10, -15, -100],  # bid sizes: 0, 30 ask sizes: 10, 15\n",
    "    price_tick = 10,  # orders are 20% apart (using integer for exact math)\n",
    "    ask_index = 4,\n",
    ")\n",
    "print(book1.pretty())"
   ]
  },
  {
   "cell_type": "code",
   "execution_count": 16,
   "id": "4af1b105-60aa-4a24-9d1b-f14f94926b74",
   "metadata": {},
   "outputs": [
    {
     "name": "stdout",
     "output_type": "stream",
     "text": [
      "   90% |   100\n",
      "   80% |    15\n",
      "   70% |    10\n",
      "---------------\n",
      " price |  size\n",
      "---------------\n",
      "   60% |     0\n",
      "   50% |    30\n",
      "   40% |    20\n",
      "   30% |     5\n",
      "   20% |     1\n",
      "   10% |    10\n",
      "Account(position=Position(size=-50, notional=-2800, max_price=100), balance=100000)\n",
      "Account(position=Position(size=50, notional=2800, max_price=100), balance=1000)\n"
     ]
    }
   ],
   "source": [
    "book1.match_accounts(mm, acc1, 60, 100)\n",
    "print(book1.pretty())\n",
    "print(mm)\n",
    "print(acc1)"
   ]
  },
  {
   "cell_type": "code",
   "execution_count": 17,
   "id": "b7061b03-7f9f-4e14-9b57-c2ed9a351329",
   "metadata": {},
   "outputs": [
    {
     "data": {
      "text/plain": [
       "(0,\n",
       " Account(position=Position(size=50, notional=2800, max_price=100), balance=1000))"
      ]
     },
     "execution_count": 17,
     "metadata": {},
     "output_type": "execute_result"
    }
   ],
   "source": [
    "acc1.settle(), acc1"
   ]
  },
  {
   "cell_type": "code",
   "execution_count": 18,
   "id": "7c8d1fca-b5f7-4eb6-b650-6c7406ec5d16",
   "metadata": {},
   "outputs": [
    {
     "data": {
      "text/plain": [
       "(97800,\n",
       " Account(position=Position(size=-50, notional=95000, max_price=100), balance=2200))"
      ]
     },
     "execution_count": 18,
     "metadata": {},
     "output_type": "execute_result"
    }
   ],
   "source": [
    "mm.settle(), mm"
   ]
  },
  {
   "cell_type": "code",
   "execution_count": null,
   "id": "c2179b62-a342-4faa-89d8-5e83b6950b71",
   "metadata": {},
   "outputs": [],
   "source": []
  },
  {
   "cell_type": "code",
   "execution_count": null,
   "id": "69fc0aa6-6255-4d5b-b251-4cbca708e192",
   "metadata": {},
   "outputs": [],
   "source": []
  }
 ],
 "metadata": {
  "kernelspec": {
   "display_name": "Python 3 (ipykernel)",
   "language": "python",
   "name": "python3"
  },
  "language_info": {
   "codemirror_mode": {
    "name": "ipython",
    "version": 3
   },
   "file_extension": ".py",
   "mimetype": "text/x-python",
   "name": "python",
   "nbconvert_exporter": "python",
   "pygments_lexer": "ipython3",
   "version": "3.12.2"
  }
 },
 "nbformat": 4,
 "nbformat_minor": 5
}

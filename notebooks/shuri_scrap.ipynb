{
 "cells": [
  {
   "cell_type": "markdown",
   "id": "012070be-9353-4f12-9b79-34c10369fa21",
   "metadata": {},
   "source": [
    "# plan"
   ]
  },
  {
   "cell_type": "raw",
   "id": "28643a42-71ba-4098-8b8e-d1182315082b",
   "metadata": {},
   "source": [
    "struct\n",
    "- Swap(bet_amount)\n",
    "- Liquidity(bins)\n",
    "- Bin(bid, ask)\n",
    "\n",
    "external func\n",
    "- swap(user, is_bid, bet_amount, min_odds)\n",
    "- mint_lp_full(user, token_amount, mid_min, mid_max)\n",
    "- mint_lp_conc(user, token_amount, range_min, range_max)\n",
    "- mint_lp_custom(user, token_amount, bins)\n",
    "- burn_lp(user, lp_amount, token_min)\n",
    "\n",
    "internal func\n",
    "- ...\n",
    "- ."
   ]
  },
  {
   "cell_type": "raw",
   "id": "fa367343-6f11-481e-a6c3-9ed132246539",
   "metadata": {},
   "source": [
    "Book\n",
    "- Bid\n",
    "  - +ve Price, +ve Size\n",
    "- Ask\n",
    "  - +ve Price, -ve Size"
   ]
  },
  {
   "cell_type": "markdown",
   "id": "59a0e0af-60f0-4e35-955e-3a38d9d60662",
   "metadata": {},
   "source": [
    "# 1"
   ]
  },
  {
   "cell_type": "markdown",
   "id": "9887c575-5d58-4009-966a-7488feffb751",
   "metadata": {},
   "source": [
    "## import"
   ]
  },
  {
   "cell_type": "code",
   "execution_count": 59,
   "id": "0d5d0a8c-6492-4893-ad70-d3f74c2cb466",
   "metadata": {},
   "outputs": [],
   "source": [
    "from typing import Self\n",
    "from dataclasses import dataclass\n",
    "\n",
    "from lib_scrap import aaa"
   ]
  },
  {
   "cell_type": "markdown",
   "id": "4851e3dd-b8e1-4fd8-a81c-bea8f7913d50",
   "metadata": {},
   "source": [
    "## funcs"
   ]
  },
  {
   "cell_type": "code",
   "execution_count": 60,
   "id": "b2bee8f5-a71e-4d78-9c12-8317d6d5a005",
   "metadata": {},
   "outputs": [],
   "source": [
    "Price = int\n",
    "Notional = Price\n",
    "Size = int\n",
    "\n",
    "@dataclass\n",
    "class IOrder:\n",
    "    price: Price\n",
    "    size: Size\n",
    "\n",
    "class IBook:\n",
    "    def match(self: Self, order: IOrder):\n",
    "        ...\n",
    "        \n",
    "    def aaa():\n",
    "        ..."
   ]
  },
  {
   "cell_type": "code",
   "execution_count": 61,
   "id": "74572bab-b955-4614-a24f-2f453bb9df47",
   "metadata": {},
   "outputs": [],
   "source": [
    "class AmmOrder(IOrder):\n",
    "    ...\n",
    "\n",
    "@dataclass\n",
    "class AmmBook(IBook):\n",
    "    mid: Price\n",
    "    bins: dict[Price, Size]\n",
    "    \n",
    "    def match(self: Self, order: AmmOrder):\n",
    "        ..."
   ]
  },
  {
   "cell_type": "code",
   "execution_count": 62,
   "id": "2702ee00-8f38-486e-bf15-47e1cfd0bc24",
   "metadata": {
    "jupyter": {
     "source_hidden": true
    }
   },
   "outputs": [],
   "source": [
    "class CustomOrder(IOrder):\n",
    "    ...\n",
    "\n",
    "@dataclass\n",
    "class CustomBook:\n",
    "    mid: Price\n",
    "    bins: dict[Price, Size]\n",
    "    \n",
    "def match(book: CustomBook, order: CustomOrder):\n",
    "    ..."
   ]
  },
  {
   "cell_type": "markdown",
   "id": "45d9f36e-6a5d-4b28-9520-f3577c9b9bcd",
   "metadata": {},
   "source": [
    "## sandbox"
   ]
  },
  {
   "cell_type": "code",
   "execution_count": 219,
   "id": "bac569bd-7334-4579-833d-292f1cd883b5",
   "metadata": {},
   "outputs": [],
   "source": [
    "@dataclass\n",
    "class ABook:\n",
    "    index: int\n",
    "    book: list[Size]\n",
    "    price_tick: Price\n",
    "\n",
    "    def __post_init__(self: Self):\n",
    "        self.book_len: int = len(self.book)\n",
    "    \n",
    "    def price(self: Self, index: int) -> Price:\n",
    "        return self.price_tick * index\n",
    "\n",
    "    def size(self: Self, index: int) -> Size:\n",
    "        return self.book[index] if 0 <= index < self.book_len else 0\n",
    "\n",
    "    def best_index(self: Self, is_bid: bool) -> int:\n",
    "        return self.index - 1 if is_bid else self.index\n",
    "\n",
    "    def best_order(self: Self, is_bid: bool) -> (Price, Size):\n",
    "        index = self.best_index(is_bid)\n",
    "        return self.price(index), self.size(index)\n",
    "\n",
    "    # mutates\n",
    "    def match(self: Self, price: Price, size: Size) -> (Notional, Size):\n",
    "        # if size >> maker_size: wipe & continue else: hit & stop\n",
    "        # size = 3; maker_size = -5 -> -2. stop\n",
    "        # size = 7; maker_size = -5 -> 2. cont\n",
    "        \n",
    "        # maker_size = 2; new_maker_size = -1, 0, 1; c s s; f t t\n",
    "        # maker_size = 0; new_maker_size = -1, 0, 1; c s c; f t f\n",
    "        # maker_size = -3; new_maker_size = -2, 0, 2; s s c; t t f\n",
    "\n",
    "        is_bid_maker = size < 0  # maker is bid (opposite of taker)\n",
    "        maker_price, maker_size = self.best_order(is_bid_maker)\n",
    "        new_maker_size = maker_size + size\n",
    "        \n",
    "        if (price != maker_price and is_bid_maker == (maker_price < price)):\n",
    "            # cease: no more match\n",
    "            print(f'cease: {0} @ {maker_price}')\n",
    "            return 0, 0\n",
    "        \n",
    "        if (maker_size != 0) and ((new_maker_size == 0) or ((maker_size > 0) == (new_maker_size > 0))):\n",
    "            # stop\n",
    "            print(f'stop: {size} @ {maker_price}')\n",
    "            self.book[self.best_index(not is_bid_maker)] += size\n",
    "            self.book[self.best_index(is_bid_maker)] += size\n",
    "            return maker_price * size, size\n",
    "        else:\n",
    "            # cont\n",
    "            match_size = self.book[self.best_index(is_bid_maker)]\n",
    "            print(f'cont: {match_size} @ {maker_price}')\n",
    "            self.book[self.best_index(not is_bid_maker)] -= match_size\n",
    "            self.book[self.best_index(is_bid_maker)] = 0\n",
    "            self.index += -1 if is_bid_maker else 1\n",
    "            if 0 < self.index < self.book_len:\n",
    "                print(self.index)\n",
    "                next_notional, next_size = self.match(price, size - match_size)\n",
    "            else:\n",
    "                # end of book\n",
    "                print(f'end: {0} @ {maker_price}')\n",
    "                self.index = min(max(self.index, 1), self.book_len - 1)\n",
    "                next_notional, next_size = 0, 0\n",
    "            return maker_price * match_size + next_notional, match_size + next_size"
   ]
  },
  {
   "cell_type": "code",
   "execution_count": 220,
   "id": "073fce79-e327-4bc8-a440-f972d682493b",
   "metadata": {},
   "outputs": [],
   "source": [
    "empty_book = ABook(1, [0 for i in range(6)], 20)\n",
    "some_book = ABook(3, [1, 5, 3, -2, 0, -2], 20)"
   ]
  },
  {
   "cell_type": "code",
   "execution_count": 221,
   "id": "cda2ad75-5d9c-48d9-a1fe-50403b021b8b",
   "metadata": {},
   "outputs": [
    {
     "data": {
      "text/plain": [
       "(ABook(index=1, book=[0, 0, 0, 0, 0, 0], price_tick=20),\n",
       " ABook(index=3, book=[1, 5, 3, -2, 0, -2], price_tick=20))"
      ]
     },
     "execution_count": 221,
     "metadata": {},
     "output_type": "execute_result"
    }
   ],
   "source": [
    "empty_book, some_book"
   ]
  },
  {
   "cell_type": "code",
   "execution_count": 222,
   "id": "d90b88fc-19da-46bd-84bb-c228188ed367",
   "metadata": {},
   "outputs": [
    {
     "data": {
      "text/plain": [
       "((0, 0), (20, 0))"
      ]
     },
     "execution_count": 222,
     "metadata": {},
     "output_type": "execute_result"
    }
   ],
   "source": [
    "empty_book.best_order(True), empty_book.best_order(False)"
   ]
  },
  {
   "cell_type": "code",
   "execution_count": 223,
   "id": "25c32405-a1dd-4bbd-af8e-e2048f8bc199",
   "metadata": {},
   "outputs": [
    {
     "data": {
      "text/plain": [
       "((40, 3), (60, -2))"
      ]
     },
     "execution_count": 223,
     "metadata": {},
     "output_type": "execute_result"
    }
   ],
   "source": [
    "some_book.best_order(True), some_book.best_order(False)"
   ]
  },
  {
   "cell_type": "code",
   "execution_count": 224,
   "id": "53d93a8e-56b5-4e37-9715-152d923e5f37",
   "metadata": {},
   "outputs": [
    {
     "name": "stdout",
     "output_type": "stream",
     "text": [
      "cont: 0 @ 20\n",
      "2\n",
      "cont: 0 @ 40\n",
      "3\n",
      "cont: 0 @ 60\n",
      "4\n",
      "cont: 0 @ 80\n",
      "5\n",
      "cont: 0 @ 100\n",
      "end: 0 @ 100\n"
     ]
    },
    {
     "data": {
      "text/plain": [
       "((0, 0), ABook(index=5, book=[0, 0, 0, 0, 0, 0], price_tick=20))"
      ]
     },
     "execution_count": 224,
     "metadata": {},
     "output_type": "execute_result"
    }
   ],
   "source": [
    "empty_book.match(200, 20), empty_book"
   ]
  },
  {
   "cell_type": "code",
   "execution_count": 225,
   "id": "48fecd69-bc1e-4b84-b85e-37b6fa34b7dc",
   "metadata": {},
   "outputs": [
    {
     "name": "stdout",
     "output_type": "stream",
     "text": [
      "cont: 0 @ 80\n",
      "4\n",
      "cont: 0 @ 60\n",
      "3\n",
      "cont: 0 @ 40\n",
      "2\n",
      "cont: 0 @ 20\n",
      "1\n",
      "cont: 0 @ 0\n",
      "end: 0 @ 0\n"
     ]
    },
    {
     "data": {
      "text/plain": [
       "((0, 0), ABook(index=1, book=[0, 0, 0, 0, 0, 0], price_tick=20))"
      ]
     },
     "execution_count": 225,
     "metadata": {},
     "output_type": "execute_result"
    }
   ],
   "source": [
    "empty_book.match(-1, -20), empty_book"
   ]
  },
  {
   "cell_type": "code",
   "execution_count": 226,
   "id": "d99d9d17-8d8e-4b2a-9c9a-ffd00c73c48a",
   "metadata": {},
   "outputs": [
    {
     "name": "stdout",
     "output_type": "stream",
     "text": [
      "cont: -2 @ 60\n",
      "4\n",
      "cont: 0 @ 80\n",
      "5\n",
      "cont: -2 @ 100\n",
      "end: 0 @ 100\n"
     ]
    },
    {
     "data": {
      "text/plain": [
       "((-320, -4), ABook(index=5, book=[1, 5, 5, 0, 2, 0], price_tick=20))"
      ]
     },
     "execution_count": 226,
     "metadata": {},
     "output_type": "execute_result"
    }
   ],
   "source": [
    "some_book.match(200, 20), some_book"
   ]
  },
  {
   "cell_type": "code",
   "execution_count": 227,
   "id": "c2952caf-399b-4cde-9116-962ebe060161",
   "metadata": {},
   "outputs": [
    {
     "name": "stdout",
     "output_type": "stream",
     "text": [
      "cont: 2 @ 80\n",
      "4\n",
      "cont: 0 @ 60\n",
      "3\n",
      "cont: 5 @ 40\n",
      "2\n",
      "cont: 5 @ 20\n",
      "1\n",
      "cont: 1 @ 0\n",
      "end: 0 @ 0\n"
     ]
    },
    {
     "data": {
      "text/plain": [
       "((460, 13), ABook(index=1, book=[0, -1, -5, -5, 0, -2], price_tick=20))"
      ]
     },
     "execution_count": 227,
     "metadata": {},
     "output_type": "execute_result"
    }
   ],
   "source": [
    "some_book.match(-1, -20), some_book"
   ]
  },
  {
   "cell_type": "code",
   "execution_count": null,
   "id": "01e705fb-f96a-4d95-92a3-57c5df2ad314",
   "metadata": {},
   "outputs": [],
   "source": []
  },
  {
   "cell_type": "code",
   "execution_count": null,
   "id": "760e6fd2-285f-4024-b8c2-80f18c17ae2a",
   "metadata": {},
   "outputs": [],
   "source": []
  },
  {
   "cell_type": "code",
   "execution_count": null,
   "id": "148055c9-a0bc-4068-a07e-6099f60e9cac",
   "metadata": {},
   "outputs": [],
   "source": []
  },
  {
   "cell_type": "code",
   "execution_count": null,
   "id": "b549772e-14be-40ea-8383-0e905f34c285",
   "metadata": {},
   "outputs": [],
   "source": []
  },
  {
   "cell_type": "code",
   "execution_count": null,
   "id": "90b5eeab-f9ef-4565-b268-97b30c6b982e",
   "metadata": {},
   "outputs": [],
   "source": []
  },
  {
   "cell_type": "code",
   "execution_count": null,
   "id": "b92bd75e-45cf-4730-ac4a-d325f5f180e0",
   "metadata": {},
   "outputs": [],
   "source": []
  },
  {
   "cell_type": "code",
   "execution_count": null,
   "id": "2c2b3225-b4cf-4793-b4be-1dc58fc5cb60",
   "metadata": {},
   "outputs": [],
   "source": []
  },
  {
   "cell_type": "code",
   "execution_count": null,
   "id": "6e40b819-7eea-4e50-9d59-62adfecc469c",
   "metadata": {},
   "outputs": [],
   "source": []
  }
 ],
 "metadata": {
  "kernelspec": {
   "display_name": "Python 3 (ipykernel)",
   "language": "python",
   "name": "python3"
  },
  "language_info": {
   "codemirror_mode": {
    "name": "ipython",
    "version": 3
   },
   "file_extension": ".py",
   "mimetype": "text/x-python",
   "name": "python",
   "nbconvert_exporter": "python",
   "pygments_lexer": "ipython3",
   "version": "3.12.2"
  }
 },
 "nbformat": 4,
 "nbformat_minor": 5
}

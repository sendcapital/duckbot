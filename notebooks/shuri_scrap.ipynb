{
 "cells": [
  {
   "cell_type": "markdown",
   "id": "012070be-9353-4f12-9b79-34c10369fa21",
   "metadata": {},
   "source": [
    "# plan"
   ]
  },
  {
   "cell_type": "raw",
   "id": "28643a42-71ba-4098-8b8e-d1182315082b",
   "metadata": {},
   "source": [
    "struct\n",
    "- Swap(bet_amount)\n",
    "- Liquidity(bins)\n",
    "- Bin(bid, ask)\n",
    "\n",
    "external func\n",
    "- swap(user, is_bid, bet_amount, min_odds)\n",
    "- mint_lp_full(user, token_amount, mid_min, mid_max)\n",
    "- mint_lp_conc(user, token_amount, range_min, range_max)\n",
    "- mint_lp_custom(user, token_amount, bins)\n",
    "- burn_lp(user, lp_amount, token_min)\n",
    "\n",
    "internal func\n",
    "- ...\n",
    "- ."
   ]
  },
  {
   "cell_type": "raw",
   "id": "fa367343-6f11-481e-a6c3-9ed132246539",
   "metadata": {},
   "source": [
    "Book\n",
    "- Bid\n",
    "  - +ve Price, +ve Size\n",
    "- Ask\n",
    "  - +ve Price, -ve Size"
   ]
  },
  {
   "cell_type": "markdown",
   "id": "59a0e0af-60f0-4e35-955e-3a38d9d60662",
   "metadata": {},
   "source": [
    "# 1"
   ]
  },
  {
   "cell_type": "markdown",
   "id": "9887c575-5d58-4009-966a-7488feffb751",
   "metadata": {},
   "source": [
    "## import"
   ]
  },
  {
   "cell_type": "code",
   "execution_count": 22,
   "id": "0d5d0a8c-6492-4893-ad70-d3f74c2cb466",
   "metadata": {},
   "outputs": [],
   "source": [
    "from typing import Self\n",
    "from dataclasses import dataclass\n",
    "\n",
    "from lib_scrap import aaa"
   ]
  },
  {
   "cell_type": "markdown",
   "id": "4851e3dd-b8e1-4fd8-a81c-bea8f7913d50",
   "metadata": {},
   "source": [
    "## funcs"
   ]
  },
  {
   "cell_type": "code",
   "execution_count": 53,
   "id": "b2bee8f5-a71e-4d78-9c12-8317d6d5a005",
   "metadata": {},
   "outputs": [],
   "source": [
    "Price = int\n",
    "Notional = Price\n",
    "Size = int\n",
    "\n",
    "@dataclass\n",
    "class IOrder:\n",
    "    price: Price\n",
    "    size: Size\n",
    "\n",
    "class IBook:\n",
    "    def match(self: Self, order: IOrder):\n",
    "        ...\n",
    "        \n",
    "    def aaa():\n",
    "        ..."
   ]
  },
  {
   "cell_type": "code",
   "execution_count": 20,
   "id": "74572bab-b955-4614-a24f-2f453bb9df47",
   "metadata": {},
   "outputs": [],
   "source": [
    "class AmmOrder(IOrder):\n",
    "    ...\n",
    "\n",
    "@dataclass\n",
    "class AmmBook(IBook):\n",
    "    mid: Price\n",
    "    bins: dict[Price, Size]\n",
    "    \n",
    "    def match(self: Self, order: AmmOrder):\n",
    "        ..."
   ]
  },
  {
   "cell_type": "code",
   "execution_count": 21,
   "id": "2702ee00-8f38-486e-bf15-47e1cfd0bc24",
   "metadata": {
    "jupyter": {
     "source_hidden": true
    }
   },
   "outputs": [],
   "source": [
    "class CustomOrder(IOrder):\n",
    "    ...\n",
    "\n",
    "@dataclass\n",
    "class CustomBook:\n",
    "    mid: Price\n",
    "    bins: dict[Price, Size]\n",
    "    \n",
    "def match(book: CustomBook, order: CustomOrder):\n",
    "    ..."
   ]
  },
  {
   "cell_type": "markdown",
   "id": "45d9f36e-6a5d-4b28-9520-f3577c9b9bcd",
   "metadata": {},
   "source": [
    "## sandbox"
   ]
  },
  {
   "cell_type": "code",
   "execution_count": 58,
   "id": "bac569bd-7334-4579-833d-292f1cd883b5",
   "metadata": {},
   "outputs": [],
   "source": [
    "@dataclass\n",
    "class ABook:\n",
    "    index: int\n",
    "    book: list[Size]\n",
    "    price_tick: Price\n",
    "\n",
    "    def __post_init__(self: Self):\n",
    "        self.book_len: int = len(self.book)\n",
    "    \n",
    "    def price(self: Self, index: int) -> Price:\n",
    "        return self.price_tick * index\n",
    "\n",
    "    def size(self: Self, index: int) -> Size:\n",
    "        return self.book[index] if 0 <= index < self.book_len else 0\n",
    "\n",
    "    def best_index(self: Self, is_bid: bool) -> int:\n",
    "        return self.index - 1 if is_bid else self.index\n",
    "\n",
    "    def best_order(self: Self, is_bid: bool) -> (Price, Size):\n",
    "        index = self.best_index(is_bid)\n",
    "        return self.price(index), self.size(index)\n",
    "    \n",
    "    # mutates\n",
    "    def match(self: Self, price: Price, size: Size) -> (Notional, Size):\n",
    "        # if size >> bs: wipe & continue else: hit & stop\n",
    "        # size = 3; bs = -5 -> -2. stop\n",
    "        # size = 7; bs = -5 -> 2. cont\n",
    "        \n",
    "        # bs = 2; new_bs = -1, 0, 1; c s s; f t t\n",
    "        # bs = 0; new_bs = -1, 0, 1; c s c; f t f\n",
    "        # bs = -3; new_bs = -2, 0, 2; s s c; t t f\n",
    "        is_bid = size > 0\n",
    "        bp, bs = self.best_order(is_bid)\n",
    "        new_bs = bs + size\n",
    "        \n",
    "        if (bs != 0) and ((new_bs == 0) or ((bs > 0) == (new_bs > 0))):\n",
    "            # stop\n",
    "            this.book[self.best_index(is_bid)] = 0\n",
    "        else:\n",
    "            # cont\n",
    "            \n",
    "        # self.book[index] if 0 <= index < self.book_len else 0\n",
    "        \n",
    "        # next price\n",
    "        # size left\n",
    "\n",
    "        n, s = self.match(..., ...)\n",
    "        return ... + n, ... + s"
   ]
  },
  {
   "cell_type": "code",
   "execution_count": 49,
   "id": "073fce79-e327-4bc8-a440-f972d682493b",
   "metadata": {},
   "outputs": [],
   "source": [
    "empty_book = ABook(0, [0 for i in range(6)], 20)\n",
    "some_book = ABook(3, [1, 5, 3, -2, 0, -2], 20)"
   ]
  },
  {
   "cell_type": "code",
   "execution_count": 50,
   "id": "cda2ad75-5d9c-48d9-a1fe-50403b021b8b",
   "metadata": {},
   "outputs": [
    {
     "data": {
      "text/plain": [
       "(ABook(index=0, book=[0, 0, 0, 0, 0, 0], price_tick=20),\n",
       " ABook(index=3, book=[1, 5, 3, -2, 0, -2], price_tick=20))"
      ]
     },
     "execution_count": 50,
     "metadata": {},
     "output_type": "execute_result"
    }
   ],
   "source": [
    "empty_book, some_book"
   ]
  },
  {
   "cell_type": "code",
   "execution_count": 52,
   "id": "d90b88fc-19da-46bd-84bb-c228188ed367",
   "metadata": {},
   "outputs": [
    {
     "data": {
      "text/plain": [
       "((-20, 0), (0, 0))"
      ]
     },
     "execution_count": 52,
     "metadata": {},
     "output_type": "execute_result"
    }
   ],
   "source": [
    "empty_book.best_bid(), empty_book.best_ask()"
   ]
  },
  {
   "cell_type": "code",
   "execution_count": 51,
   "id": "25c32405-a1dd-4bbd-af8e-e2048f8bc199",
   "metadata": {},
   "outputs": [
    {
     "data": {
      "text/plain": [
       "((40, 3), (60, -2))"
      ]
     },
     "execution_count": 51,
     "metadata": {},
     "output_type": "execute_result"
    }
   ],
   "source": [
    "some_book.best_bid(), some_book.best_ask()"
   ]
  },
  {
   "cell_type": "code",
   "execution_count": null,
   "id": "53d93a8e-56b5-4e37-9715-152d923e5f37",
   "metadata": {},
   "outputs": [],
   "source": []
  },
  {
   "cell_type": "code",
   "execution_count": null,
   "id": "48fecd69-bc1e-4b84-b85e-37b6fa34b7dc",
   "metadata": {},
   "outputs": [],
   "source": []
  },
  {
   "cell_type": "code",
   "execution_count": null,
   "id": "b52dc4ac-339d-410f-bac7-637ac511bcc8",
   "metadata": {},
   "outputs": [],
   "source": []
  }
 ],
 "metadata": {
  "kernelspec": {
   "display_name": "Python 3 (ipykernel)",
   "language": "python",
   "name": "python3"
  },
  "language_info": {
   "codemirror_mode": {
    "name": "ipython",
    "version": 3
   },
   "file_extension": ".py",
   "mimetype": "text/x-python",
   "name": "python",
   "nbconvert_exporter": "python",
   "pygments_lexer": "ipython3",
   "version": "3.12.2"
  }
 },
 "nbformat": 4,
 "nbformat_minor": 5
}

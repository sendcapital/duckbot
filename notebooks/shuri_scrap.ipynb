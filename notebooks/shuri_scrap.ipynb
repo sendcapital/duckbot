{
 "cells": [
  {
   "cell_type": "code",
   "execution_count": 1,
   "id": "619c3567-aada-4c11-b91e-6631fb4e1a17",
   "metadata": {},
   "outputs": [],
   "source": [
    "import eth_account"
   ]
  },
  {
   "cell_type": "code",
   "execution_count": null,
   "id": "20c3e655-7151-4ccf-85b7-378a4b143241",
   "metadata": {},
   "outputs": [],
   "source": [
    " "
   ]
  },
  {
   "cell_type": "code",
   "execution_count": null,
   "id": "0d5d0a8c-6492-4893-ad70-d3f74c2cb466",
   "metadata": {},
   "outputs": [],
   "source": []
  }
 ],
 "metadata": {
  "kernelspec": {
   "display_name": "Python 3 (ipykernel)",
   "language": "python",
   "name": "python3"
  },
  "language_info": {
   "codemirror_mode": {
    "name": "ipython",
    "version": 3
   },
   "file_extension": ".py",
   "mimetype": "text/x-python",
   "name": "python",
   "nbconvert_exporter": "python",
   "pygments_lexer": "ipython3",
   "version": "3.12.2"
  }
 },
 "nbformat": 4,
 "nbformat_minor": 5
}

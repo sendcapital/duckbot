{
 "cells": [
  {
   "cell_type": "markdown",
   "id": "8eccfa3a-b5ab-4d65-80a3-2fcad2ec11c8",
   "metadata": {},
   "source": [
    "## Import"
   ]
  },
  {
   "cell_type": "code",
   "execution_count": 1,
   "id": "6241f360-c854-448f-b2be-e60e5ad67a41",
   "metadata": {},
   "outputs": [],
   "source": [
    "from lib_scrap.order_book import *"
   ]
  },
  {
   "cell_type": "markdown",
   "id": "0e129f1f-553f-43ad-a2a0-4bfc4fda9fd8",
   "metadata": {},
   "source": [
    "## Examples"
   ]
  },
  {
   "cell_type": "markdown",
   "id": "0f31e178-c30f-47e1-8518-3b7f04a975a8",
   "metadata": {},
   "source": [
    "### 1"
   ]
  },
  {
   "cell_type": "code",
   "execution_count": 2,
   "id": "7aa4994e-1124-416b-9e57-1c34e253aa20",
   "metadata": {},
   "outputs": [
    {
     "name": "stdout",
     "output_type": "stream",
     "text": [
      "   80% |    15\n",
      "---------------\n",
      " price |  size\n",
      "---------------\n",
      "   60% |   -10\n",
      "   40% |    30\n",
      "   20% |     0\n"
     ]
    }
   ],
   "source": [
    "'''\n",
    "simple orderbook (OB)\n",
    "all LPs (can just be 1 person) have certain share in pool. (eg. if I have 20% shares, I own 20% of every order)\n",
    "orders equally spaced price_tick apart, stored as list of signed sizes (+ve bid, -ve ask)\n",
    "'''\n",
    "book1 = OrderBook(\n",
    "    book = [0, 30, -10, -15],  # bid sizes: 0, 30 ask sizes: 10, 15\n",
    "    price_tick = 20,  # orders are 20% apart (using integer for exact math)\n",
    "    index = 3,\n",
    ")\n",
    "'''\n",
    "Represents\n",
    "Bids: 0 @ 20%, 30 @ 40%\n",
    "Asks: 10 @ 60%, 15 @ 80%\n",
    "'''\n",
    "print(book1.pretty())"
   ]
  },
  {
   "cell_type": "markdown",
   "id": "e693b07f-952b-41c9-b7eb-90fe259540dc",
   "metadata": {},
   "source": [
    "### 2"
   ]
  },
  {
   "cell_type": "code",
   "execution_count": 3,
   "id": "b9f92a9b-556f-483b-99d8-43ed7a5c81d8",
   "metadata": {},
   "outputs": [
    {
     "name": "stdout",
     "output_type": "stream",
     "text": [
      "   90% |   100\n",
      "   80% |    15\n",
      "   70% |    10\n",
      "   60% |    30\n",
      "   50% |    20\n",
      "---------------\n",
      " price |  size\n",
      "---------------\n",
      "   40% |     0\n",
      "   30% |     5\n",
      "   20% |     1\n",
      "   10% |    10\n"
     ]
    }
   ],
   "source": [
    "book1 = OrderBook(\n",
    "    book = [10, 1, 5, 0, -20, -30, -10, -15, -100],  # bid sizes: 0, 30 ask sizes: 10, 15\n",
    "    price_tick = 10,  # orders are 20% apart (using integer for exact math)\n",
    "    index = 4,\n",
    ")\n",
    "print(book1.pretty())"
   ]
  },
  {
   "cell_type": "code",
   "execution_count": 10,
   "id": "1d45bcb4-6c42-4545-a1b5-0fde4019c31b",
   "metadata": {},
   "outputs": [
    {
     "name": "stdout",
     "output_type": "stream",
     "text": [
      "MATCHING\n",
      "taker size: 55\n",
      "cont: -20 @ 50\n",
      "5\n",
      "taker size: 35\n",
      "cont: -30 @ 60\n",
      "6\n",
      "taker size: 5\n",
      "stop: 5 @ 70\n",
      "END MATCHING (notional, size) = (-3150, -55)\n",
      "\n",
      "   90% |   100\n",
      "   80% |    15\n",
      "   70% |     5\n",
      "---------------\n",
      " price |  size\n",
      "---------------\n",
      "   60% |     5\n",
      "   50% |    30\n",
      "   40% |    20\n",
      "   30% |     5\n",
      "   20% |     1\n",
      "   10% |    10\n",
      "\n",
      "MATCHING\n",
      "taker size: 20\n",
      "cont: -5 @ 70\n",
      "7\n",
      "taker size: 15\n",
      "stop: 15 @ 80\n",
      "END MATCHING (notional, size) = (-1550, -20)\n",
      "\n",
      "   90% |   100\n",
      "   80% |     0\n",
      "---------------\n",
      " price |  size\n",
      "---------------\n",
      "   70% |    15\n",
      "   60% |    10\n",
      "   50% |    30\n",
      "   40% |    20\n",
      "   30% |     5\n",
      "   20% |     1\n",
      "   10% |    10\n",
      "\n",
      "MATCHING\n",
      "taker size: -1000\n",
      "cont: 15 @ 70\n",
      "6\n",
      "taker size: -985\n",
      "cont: 10 @ 60\n",
      "5\n",
      "taker size: -975\n",
      "cont: 30 @ 50\n",
      "4\n",
      "taker size: -945\n",
      "cont: 20 @ 40\n",
      "3\n",
      "taker size: -925\n",
      "cont: 5 @ 30\n",
      "2\n",
      "taker size: -920\n",
      "cont: 1 @ 20\n",
      "1\n",
      "taker size: -919\n",
      "no match: 0 @ 10\n",
      "END MATCHING (notional, size) = (4120, 81)\n",
      "\n",
      "   90% |   100\n",
      "   80% |    15\n",
      "   70% |    10\n",
      "   60% |    30\n",
      "   50% |    20\n",
      "   40% |     5\n",
      "   30% |     1\n",
      "   20% |     0\n",
      "---------------\n",
      " price |  size\n",
      "---------------\n",
      "   10% |    10\n",
      "\n",
      "MATCHING\n",
      "taker size: 2\n",
      "cont: 0 @ 20\n",
      "2\n",
      "taker size: 2\n",
      "cont: -1 @ 30\n",
      "3\n",
      "taker size: 1\n",
      "stop: 1 @ 40\n",
      "END MATCHING (notional, size) = (-70, -2)\n",
      "\n",
      "   90% |   100\n",
      "   80% |    15\n",
      "   70% |    10\n",
      "   60% |    30\n",
      "   50% |    20\n",
      "   40% |     4\n",
      "---------------\n",
      " price |  size\n",
      "---------------\n",
      "   30% |     1\n",
      "   20% |     1\n",
      "   10% |    10\n",
      "\n"
     ]
    }
   ],
   "source": [
    "book1 = OrderBook(\n",
    "    book = [10, 1, 5, -0, -20, -30, -10, -15, -100],  # bid sizes: 0, 30 ask sizes: 10, 15\n",
    "    price_tick = 10,  # orders are 20% apart (using integer for exact math)\n",
    "    index = 4,\n",
    ")\n",
    "print('MATCHING')\n",
    "print('END MATCHING (notional, size) =', book1.match(70, 55))\n",
    "print()\n",
    "print(book1.pretty())\n",
    "print()\n",
    "print('MATCHING')\n",
    "print('END MATCHING (notional, size) =', book1.match(80, 20))\n",
    "print()\n",
    "print(book1.pretty())\n",
    "print()\n",
    "print('MATCHING')\n",
    "print('END MATCHING (notional, size) =', book1.match(20, -1000))\n",
    "print()\n",
    "print(book1.pretty())\n",
    "print()\n",
    "print('MATCHING')\n",
    "print('END MATCHING (notional, size) =', book1.match(40, 2))\n",
    "print()\n",
    "print(book1.pretty())\n",
    "print()"
   ]
  },
  {
   "cell_type": "code",
   "execution_count": null,
   "id": "203c0292-3f68-499b-92aa-d9e0eadbc4d5",
   "metadata": {},
   "outputs": [],
   "source": []
  },
  {
   "cell_type": "code",
   "execution_count": null,
   "id": "adcd28af-afe8-4a6f-9918-2f21c3a8a5d8",
   "metadata": {},
   "outputs": [],
   "source": []
  },
  {
   "cell_type": "code",
   "execution_count": null,
   "id": "fcd57ddb-d6b3-45eb-9f11-525296f448d3",
   "metadata": {},
   "outputs": [],
   "source": []
  }
 ],
 "metadata": {
  "kernelspec": {
   "display_name": "Python 3 (ipykernel)",
   "language": "python",
   "name": "python3"
  },
  "language_info": {
   "codemirror_mode": {
    "name": "ipython",
    "version": 3
   },
   "file_extension": ".py",
   "mimetype": "text/x-python",
   "name": "python",
   "nbconvert_exporter": "python",
   "pygments_lexer": "ipython3",
   "version": "3.12.2"
  }
 },
 "nbformat": 4,
 "nbformat_minor": 5
}
